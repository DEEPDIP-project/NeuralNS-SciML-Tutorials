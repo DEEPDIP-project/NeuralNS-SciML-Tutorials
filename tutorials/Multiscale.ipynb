{
 "cells": [
  {
   "cell_type": "code",
   "execution_count": null,
   "metadata": {},
   "outputs": [],
   "source": [
    "using ComponentArrays\n",
    "using CUDA\n",
    "using FFTW\n",
    "using LinearAlgebra\n",
    "using Lux\n",
    "using LuxCUDA\n",
    "using NNlib\n",
    "using Optimisers\n",
    "using Plots\n",
    "using Printf\n",
    "using Random\n",
    "using Zygote\n",
    "using DifferentialEquations\n",
    "using JLD2\n",
    "\n",
    "include(\"NS_functions/functions_force.jl\")\n",
    "include(\"NS_functions/functions_time.jl\")\n",
    "include(\"NS_functions/functions_plotting.jl\")\n",
    "include(\"NS_functions/functions_utils.jl\")\n",
    "include(\"NS_functions/functions_initialization.jl\")\n",
    "include(\"NS_functions/functions_params.jl\")\n",
    "include(\"NS_functions/functions_data.jl\")"
   ]
  },
  {
   "cell_type": "code",
   "execution_count": null,
   "metadata": {},
   "outputs": [],
   "source": []
  }
 ],
 "metadata": {
  "language_info": {
   "name": "python"
  }
 },
 "nbformat": 4,
 "nbformat_minor": 2
}
